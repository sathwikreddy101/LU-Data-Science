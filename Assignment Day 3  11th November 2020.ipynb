{
 "cells": [
  {
   "cell_type": "markdown",
   "metadata": {},
   "source": [
    "# Assignment Day 3"
   ]
  },
  {
   "cell_type": "markdown",
   "metadata": {},
   "source": [
    "## Question-1 "
   ]
  },
  {
   "cell_type": "markdown",
   "metadata": {},
   "source": [
    "1. Create a numpy array starting from 2 till 50 with a stepsize of 3."
   ]
  },
  {
   "cell_type": "code",
   "execution_count": 1,
   "metadata": {},
   "outputs": [
    {
     "name": "stdout",
     "output_type": "stream",
     "text": [
      "[ 2  5  8 11 14 17 20 23 26 29 32 35 38 41 44 47]\n",
      "<class 'numpy.ndarray'>\n"
     ]
    }
   ],
   "source": [
    "import numpy as np\n",
    "arr=np.array([x for x in range(2,50,3)])\n",
    "print(arr)\n",
    "print(type(arr))"
   ]
  },
  {
   "cell_type": "markdown",
   "metadata": {},
   "source": [
    "## Question-2 "
   ]
  },
  {
   "cell_type": "markdown",
   "metadata": {},
   "source": [
    "2. Accept two lists of 5 elements each from the user.\n",
    "Convert them to numpy arrays. Concatenate these arrays and print it. Also sort these arrays and print it."
   ]
  },
  {
   "cell_type": "code",
   "execution_count": 9,
   "metadata": {},
   "outputs": [
    {
     "name": "stdout",
     "output_type": "stream",
     "text": [
      "1\n",
      "2\n",
      "5\n",
      "8\n",
      "7\n",
      "9\n",
      "6\n",
      "4\n",
      "2\n",
      "10\n",
      "Sorted first array [1 2 5 7 8]\n",
      "Sorted second array [ 2  4  6  9 10]\n",
      "[ 1  2  2  4  5  6  7  8  9 10]\n"
     ]
    }
   ],
   "source": [
    "lst1=[]\n",
    "for i in range(5):\n",
    "    lst1.append(int(input()))\n",
    "lst2=[]\n",
    "for i in range(5):\n",
    "    lst2.append(int(input()))\n",
    "arr1=np.array(lst1)\n",
    "print(\"Sorted first array\",end=\" \")\n",
    "print(np.sort(arr1))\n",
    "arr2=np.array(lst2)\n",
    "print(\"Sorted second array\",end=\" \")\n",
    "print(np.sort(arr2))\n",
    "arr = np.concatenate((arr1, arr2))\n",
    "print(np.sort(arr))"
   ]
  },
  {
   "cell_type": "markdown",
   "metadata": {},
   "source": [
    "## Question-3 "
   ]
  },
  {
   "cell_type": "markdown",
   "metadata": {},
   "source": [
    "3. Write a code snippet to find the dimensions of a ndarray and its size."
   ]
  },
  {
   "cell_type": "code",
   "execution_count": 16,
   "metadata": {},
   "outputs": [
    {
     "name": "stdout",
     "output_type": "stream",
     "text": [
      "<class 'numpy.ndarray'>\n",
      "2\n",
      "(3, 3)\n",
      "9\n"
     ]
    }
   ],
   "source": [
    "ndarray = np.array([[1, 2, 3], [4, 5, 6], [7, 8, 9]])\n",
    "print(type(ndarray))\n",
    "print(ndarray.ndim)\n",
    "print(ndarray.shape)\n",
    "print(ndarray.size)"
   ]
  },
  {
   "cell_type": "markdown",
   "metadata": {},
   "source": [
    "## Question-4 "
   ]
  },
  {
   "cell_type": "markdown",
   "metadata": {},
   "source": [
    "4. How to convert a 1D array into a 2D array? Demonstrate with the help of a code snippet"
   ]
  },
  {
   "cell_type": "markdown",
   "metadata": {},
   "source": [
    "### np.newaxis : "
   ]
  },
  {
   "cell_type": "code",
   "execution_count": 19,
   "metadata": {},
   "outputs": [
    {
     "name": "stdout",
     "output_type": "stream",
     "text": [
      "Before Conversion 1\n",
      "After Conversion 2\n"
     ]
    }
   ],
   "source": [
    "onedarray=np.array([1,2,3,4,5,6,7,8,9])\n",
    "print(\"Before Conversion\",end=\" \")\n",
    "print(onedarray.ndim)\n",
    "ndarray=onedarray[np.newaxis, :]\n",
    "print(\"After Conversion\",end=\" \")\n",
    "print(ndarray.ndim)"
   ]
  },
  {
   "cell_type": "markdown",
   "metadata": {},
   "source": [
    "### np.expand_dims : "
   ]
  },
  {
   "cell_type": "code",
   "execution_count": 21,
   "metadata": {},
   "outputs": [
    {
     "name": "stdout",
     "output_type": "stream",
     "text": [
      "Before Conversion 1\n",
      "After Conversion 2\n"
     ]
    }
   ],
   "source": [
    "onedarray=np.array([1,2,3,4,5,6,7,8,9])\n",
    "print(\"Before Conversion\",end=\" \")\n",
    "print(onedarray.ndim)\n",
    "ndarray=np.expand_dims(onedarray,axis=0)\n",
    "print(\"After Conversion\",end=\" \")\n",
    "print(ndarray.ndim)"
   ]
  },
  {
   "cell_type": "markdown",
   "metadata": {},
   "source": [
    "## Question-5 "
   ]
  },
  {
   "cell_type": "markdown",
   "metadata": {},
   "source": [
    "5. Consider two square numpy arrays. Stack them vertically and horizontally.\n",
    "Hint: Use vstack(), hstack()"
   ]
  },
  {
   "cell_type": "code",
   "execution_count": 23,
   "metadata": {},
   "outputs": [
    {
     "name": "stdout",
     "output_type": "stream",
     "text": [
      "Vertical stacking:\n",
      " [[1 2]\n",
      " [3 4]\n",
      " [5 6]\n",
      " [7 8]]\n",
      "\n",
      "Horizontal stacking:\n",
      " [[1 2 5 6]\n",
      " [3 4 7 8]]\n"
     ]
    }
   ],
   "source": [
    "arr1 = np.array([[1, 2], [3, 4]]) \n",
    "arr2 = np.array([[5, 6], [7, 8]]) \n",
    "print(\"Vertical stacking:\\n\", np.vstack((arr1, arr2))) \n",
    "print(\"\\nHorizontal stacking:\\n\", np.hstack((arr1, arr2)))"
   ]
  },
  {
   "cell_type": "markdown",
   "metadata": {},
   "source": [
    "## Question-6 "
   ]
  },
  {
   "cell_type": "markdown",
   "metadata": {},
   "source": [
    "6. How to get unique items and counts of unique items?"
   ]
  },
  {
   "cell_type": "code",
   "execution_count": 24,
   "metadata": {},
   "outputs": [
    {
     "name": "stdout",
     "output_type": "stream",
     "text": [
      "[[1 3]\n",
      " [2 1]\n",
      " [3 1]\n",
      " [4 2]]\n"
     ]
    }
   ],
   "source": [
    "list=np.array([1,1,2,3,4,4,1])\n",
    "(unique, count)=np.unique(list,return_counts=True)\n",
    "result=np.asarray((unique,count)).T\n",
    "print(result)"
   ]
  },
  {
   "cell_type": "code",
   "execution_count": null,
   "metadata": {},
   "outputs": [],
   "source": []
  }
 ],
 "metadata": {
  "kernelspec": {
   "display_name": "Python 3",
   "language": "python",
   "name": "python3"
  },
  "language_info": {
   "codemirror_mode": {
    "name": "ipython",
    "version": 3
   },
   "file_extension": ".py",
   "mimetype": "text/x-python",
   "name": "python",
   "nbconvert_exporter": "python",
   "pygments_lexer": "ipython3",
   "version": "3.7.4"
  }
 },
 "nbformat": 4,
 "nbformat_minor": 2
}
